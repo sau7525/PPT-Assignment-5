{
 "cells": [
  {
   "cell_type": "code",
   "execution_count": 1,
   "id": "c4f4ba7b-25a4-40cd-99a2-7b55c52fc8ad",
   "metadata": {},
   "outputs": [],
   "source": [
    "# ANS:1"
   ]
  },
  {
   "cell_type": "code",
   "execution_count": 2,
   "id": "94d2099b-4c12-4397-860c-85eef987a350",
   "metadata": {},
   "outputs": [
    {
     "name": "stdout",
     "output_type": "stream",
     "text": [
      "[[1, 2], [3, 4]]\n"
     ]
    }
   ],
   "source": [
    "def convert_to_2d(original, m, n):\n",
    "    if len(original) != m * n:\n",
    "        return []\n",
    "    \n",
    "    result = [[0] * n for _ in range(m)]\n",
    "    \n",
    "    for i in range(len(original)):\n",
    "        row = i // n\n",
    "        col = i % n\n",
    "        result[row][col] = original[i]\n",
    "    \n",
    "    return result\n",
    "original = [1, 2, 3, 4]\n",
    "m = 2\n",
    "n = 2\n",
    "result = convert_to_2d(original, m, n)\n",
    "print(result)"
   ]
  },
  {
   "cell_type": "code",
   "execution_count": 3,
   "id": "1a908516-24f1-427d-81e4-594f045b86ed",
   "metadata": {},
   "outputs": [],
   "source": [
    "# ANS:2"
   ]
  },
  {
   "cell_type": "code",
   "execution_count": 4,
   "id": "c57eec33-675c-4839-bb1a-56e56b2f8cbb",
   "metadata": {},
   "outputs": [
    {
     "name": "stdout",
     "output_type": "stream",
     "text": [
      "2\n"
     ]
    }
   ],
   "source": [
    "def findCompleteRows(n):\n",
    "    left = 0\n",
    "    right = n\n",
    "    \n",
    "    while left <= right:\n",
    "        mid = (left + right) // 2\n",
    "        total_coins = (mid * (mid + 1)) // 2\n",
    "        \n",
    "        if total_coins <= n:\n",
    "            left = mid + 1\n",
    "        else:\n",
    "            right = mid - 1\n",
    "    \n",
    "    return right\n",
    "n = 5\n",
    "result = findCompleteRows(n)\n",
    "print(result)"
   ]
  },
  {
   "cell_type": "code",
   "execution_count": 5,
   "id": "0c438417-9fbc-4712-9999-2fa8a12d7d30",
   "metadata": {},
   "outputs": [],
   "source": [
    "# ANS:3"
   ]
  },
  {
   "cell_type": "code",
   "execution_count": 6,
   "id": "86fc0190-197e-402b-9a8b-bb36e076628e",
   "metadata": {},
   "outputs": [],
   "source": [
    "def sortedSquares(nums):\n",
    "    result = []\n",
    "    for num in nums:\n",
    "        result.append(num * num)\n",
    "    result.sort()\n",
    "    return result"
   ]
  },
  {
   "cell_type": "code",
   "execution_count": 7,
   "id": "865e70e4-c019-44c5-8fbe-a8091b84669d",
   "metadata": {},
   "outputs": [
    {
     "name": "stdout",
     "output_type": "stream",
     "text": [
      "[0, 1, 9, 16, 100]\n"
     ]
    }
   ],
   "source": [
    "nums = [-4, -1, 0, 3, 10]\n",
    "result = sortedSquares(nums)\n",
    "print(result)"
   ]
  },
  {
   "cell_type": "code",
   "execution_count": 8,
   "id": "d08aec49-60e3-493d-bfed-662720490dcb",
   "metadata": {},
   "outputs": [],
   "source": [
    "# ANS:4"
   ]
  },
  {
   "cell_type": "code",
   "execution_count": 9,
   "id": "696d45ca-8d0b-46e8-b22e-3490b3665ea1",
   "metadata": {},
   "outputs": [
    {
     "name": "stdout",
     "output_type": "stream",
     "text": [
      "[[1, 3], [4, 6]]\n"
     ]
    }
   ],
   "source": [
    "def findDistinctIntegers(nums1, nums2):\n",
    "    set1 = set(nums1)\n",
    "    set2 = set(nums2)\n",
    "    \n",
    "    result1 = list(set1 - set2)\n",
    "    result2 = list(set2 - set1)\n",
    "    \n",
    "    return [result1, result2]\n",
    "nums1 = [1, 2, 3]\n",
    "nums2 = [2, 4, 6]\n",
    "result = findDistinctIntegers(nums1, nums2)\n",
    "print(result)"
   ]
  },
  {
   "cell_type": "code",
   "execution_count": 10,
   "id": "1b0d4a6f-f6c4-4b30-a414-86a18c03e386",
   "metadata": {},
   "outputs": [],
   "source": [
    "# ANS:5"
   ]
  },
  {
   "cell_type": "code",
   "execution_count": 11,
   "id": "c7a5f7ec-fa4c-46e3-af2b-51b2565b09df",
   "metadata": {},
   "outputs": [
    {
     "name": "stdout",
     "output_type": "stream",
     "text": [
      "2\n"
     ]
    }
   ],
   "source": [
    "def findDistanceValue(arr1, arr2, d):\n",
    "    distance = 0\n",
    "    for num1 in arr1:\n",
    "        for num2 in arr2:\n",
    "            if abs(num1 - num2) <= d:\n",
    "                break\n",
    "        else:\n",
    "            distance += 1\n",
    "    return distance\n",
    "arr1 = [4, 5, 8]\n",
    "arr2 = [10, 9, 1, 8]\n",
    "d = 2\n",
    "result = findDistanceValue(arr1, arr2, d)\n",
    "print(result)"
   ]
  },
  {
   "cell_type": "code",
   "execution_count": 12,
   "id": "d4b30a21-dc38-43a2-8579-28d9556f0991",
   "metadata": {},
   "outputs": [],
   "source": [
    "# ANS:6"
   ]
  },
  {
   "cell_type": "code",
   "execution_count": 13,
   "id": "1ae904ad-c2e9-4105-82e9-7305ba8fb49d",
   "metadata": {},
   "outputs": [
    {
     "name": "stdout",
     "output_type": "stream",
     "text": [
      "[2, 3]\n"
     ]
    }
   ],
   "source": [
    "def findDuplicates(nums):\n",
    "    result = []\n",
    "    for num in nums:\n",
    "        num = abs(num)\n",
    "        if nums[num - 1] > 0:\n",
    "            nums[num - 1] = -nums[num - 1]\n",
    "        else:\n",
    "            result.append(num)\n",
    "    return result\n",
    "nums = [4, 3, 2, 7, 8, 2, 3, 1]\n",
    "result = findDuplicates(nums)\n",
    "print(result)"
   ]
  },
  {
   "cell_type": "code",
   "execution_count": 14,
   "id": "6da554cb-b9a1-4c2e-a56c-68f14c02fa0f",
   "metadata": {},
   "outputs": [],
   "source": [
    "# ANS:7"
   ]
  },
  {
   "cell_type": "code",
   "execution_count": 15,
   "id": "93f1b5f3-7ef4-43a6-bc19-167d55453984",
   "metadata": {},
   "outputs": [
    {
     "name": "stdout",
     "output_type": "stream",
     "text": [
      "1\n"
     ]
    }
   ],
   "source": [
    "def findMin(nums):\n",
    "    left = 0\n",
    "    right = len(nums) - 1\n",
    "\n",
    "    while left < right:\n",
    "        mid = (left + right) // 2\n",
    "\n",
    "        if nums[mid] > nums[right]:\n",
    "            left = mid + 1\n",
    "        else:\n",
    "            right = mid\n",
    "\n",
    "    return nums[left]\n",
    "nums = [3, 4, 5, 1, 2]\n",
    "result = findMin(nums)\n",
    "print(result)"
   ]
  },
  {
   "cell_type": "code",
   "execution_count": 16,
   "id": "f9f07e4c-017f-4cbd-8f5a-3a248d8ed39d",
   "metadata": {},
   "outputs": [],
   "source": [
    "# ANS:8"
   ]
  },
  {
   "cell_type": "code",
   "execution_count": 17,
   "id": "9a6ce1bd-6b1a-44ac-bfdb-b6fc41d55e3c",
   "metadata": {},
   "outputs": [
    {
     "name": "stdout",
     "output_type": "stream",
     "text": [
      "[1, 3, 4]\n"
     ]
    }
   ],
   "source": [
    "from collections import defaultdict\n",
    "\n",
    "def findOriginalArray(changed):\n",
    "    if len(changed) % 2 != 0:\n",
    "        return []\n",
    "\n",
    "    freq_map = defaultdict(int)\n",
    "    for num in changed:\n",
    "        freq_map[num] += 1\n",
    "\n",
    "    original = []\n",
    "    for num in sorted(changed):\n",
    "        if freq_map[num] == 0:\n",
    "            continue\n",
    "\n",
    "        if freq_map[num * 2] == 0:\n",
    "            return []\n",
    "\n",
    "        freq_map[num] -= 1\n",
    "        freq_map[num * 2] -= 1\n",
    "        original.append(num)\n",
    "\n",
    "    return original\n",
    "changed = [1, 3, 4, 2, 6, 8]\n",
    "result = findOriginalArray(changed)\n",
    "print(result)"
   ]
  },
  {
   "cell_type": "code",
   "execution_count": null,
   "id": "8a14807f-c759-487b-885f-5a6644674bf5",
   "metadata": {},
   "outputs": [],
   "source": []
  }
 ],
 "metadata": {
  "kernelspec": {
   "display_name": "Python 3 (ipykernel)",
   "language": "python",
   "name": "python3"
  },
  "language_info": {
   "codemirror_mode": {
    "name": "ipython",
    "version": 3
   },
   "file_extension": ".py",
   "mimetype": "text/x-python",
   "name": "python",
   "nbconvert_exporter": "python",
   "pygments_lexer": "ipython3",
   "version": "3.10.8"
  }
 },
 "nbformat": 4,
 "nbformat_minor": 5
}
